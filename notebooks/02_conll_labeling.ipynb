{
 "cells": [
  {
   "cell_type": "code",
   "execution_count": 1,
   "metadata": {},
   "outputs": [
    {
     "ename": "ModuleNotFoundError",
     "evalue": "No module named 'pandas'",
     "output_type": "error",
     "traceback": [
      "\u001b[31m---------------------------------------------------------------------------\u001b[39m",
      "\u001b[31mModuleNotFoundError\u001b[39m                       Traceback (most recent call last)",
      "\u001b[36mCell\u001b[39m\u001b[36m \u001b[39m\u001b[32mIn[1]\u001b[39m\u001b[32m, line 1\u001b[39m\n\u001b[32m----> \u001b[39m\u001b[32m1\u001b[39m \u001b[38;5;28;01mimport\u001b[39;00m\u001b[38;5;250m \u001b[39m\u001b[34;01mpandas\u001b[39;00m\u001b[38;5;250m \u001b[39m\u001b[38;5;28;01mas\u001b[39;00m\u001b[38;5;250m \u001b[39m\u001b[34;01mpd\u001b[39;00m\n\u001b[32m      2\u001b[39m \u001b[38;5;28;01mimport\u001b[39;00m\u001b[38;5;250m \u001b[39m\u001b[34;01mos\u001b[39;00m\n\u001b[32m      4\u001b[39m \u001b[38;5;66;03m# --- Step 1: Load Preprocessed Data ---\u001b[39;00m\n",
      "\u001b[31mModuleNotFoundError\u001b[39m: No module named 'pandas'"
     ]
    }
   ],
   "source": [
    "import pandas as pd\n",
    "import os\n",
    "\n",
    "# --- Step 1: Load Preprocessed Data ---\n",
    "input_path = \"../data/preprocessed_data.csv\"\n",
    "df = pd.read_csv(input_path)\n",
    "\n",
    "# --- Step 2: Manual Labeling Support ---\n",
    "# We'll print sample messages to manually label and then format to CoNLL\n",
    "sample_messages = df['cleaned_text'].sample(5).tolist()\n",
    "\n",
    "print(\"--- Sample Messages for Labeling (copy and label in a text file) ---\")\n",
    "for i, msg in enumerate(sample_messages):\n",
    "    print(f\"\\nMessage {i+1}:\\n{msg}\")\n",
    "\n",
    "# --- Step 3: CoNLL Format Template ---\n",
    "print(\"\\n--- CoNLL Labeling Format Reminder ---\")\n",
    "print(\"Each token per line with its label:\")\n",
    "print(\"ምርቱ\\tB-Product\\nእና\\tI-Product\\nዋጋው\\tB-PRICE\\n1000\\tI-PRICE\\nብር\\tI-PRICE\\n\\n\")\n",
    "\n",
    "# Instructions for manual process:\n",
    "# 1. Open Notepad or VSCode.\n",
    "# 2. Paste a message and break it into tokens.\n",
    "# 3. Label each word.\n",
    "# 4. Save as 'labeled_data.conll' in the /data folder.\n",
    "# Format: Token\\tEntityTag, with blank lines between sentences.\n",
    "\n",
    "print(\"Save your final labels in: ../data/labeled_data.conll\")\n"
   ]
  }
 ],
 "metadata": {
  "kernelspec": {
   "display_name": "venv",
   "language": "python",
   "name": "python3"
  },
  "language_info": {
   "codemirror_mode": {
    "name": "ipython",
    "version": 3
   },
   "file_extension": ".py",
   "mimetype": "text/x-python",
   "name": "python",
   "nbconvert_exporter": "python",
   "pygments_lexer": "ipython3",
   "version": "3.12.10"
  }
 },
 "nbformat": 4,
 "nbformat_minor": 2
}
