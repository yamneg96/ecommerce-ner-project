{
 "cells": [
  {
   "cell_type": "code",
   "execution_count": null,
   "metadata": {},
   "outputs": [],
   "source": [
    "# !pip install pandas"
   ]
  },
  {
   "cell_type": "code",
   "execution_count": 2,
   "metadata": {},
   "outputs": [
    {
     "name": "stdout",
     "output_type": "stream",
     "text": [
      "--- Sample Messages for Labeling (copy and label in a text file) ---\n",
      "\n",
      "Message 1:\n",
      "New balance master quality Made In VIETNAM Size 36 37 38 39 Price 5500 Br Free Delivery INBOX Maraki2211 ስልክ 251 913321831 አድራሻ አዲስ አበባ ሜክሲኮ፡ ከ ኬኬር ህንጻ 50ሜ ወረድ ብሎ አይመን ህንፃ ግራውንድ ፍሎር ላይ፡ የሱቅ ቁ012 Maraki Brand ማራኪ ብራንድ\n",
      "\n",
      "Message 2:\n",
      "nan\n",
      "\n",
      "Message 3:\n",
      "nan\n",
      "\n",
      "Message 4:\n",
      "Door Step Shoe Rack የበር ስር ጫማ ማስቀመጫ ወፍራም የብረት ቱቦ ጠንካራ ረጅም ጊዜ የሚገለገሉበት በትነሹ 12 ጥንድ ጫማዎችን የሚያስቀምጡበት 55cm26cm114M ስፋት ያለው ባለ 6 ደረጃ ደረጃዎቹ የብረት ናቸው በቀላሉ የሚገጣጥሙት የቀረን ፍሬሙ እና ብረቱ ጥቁር የሆነ ብቻ ነው 1800 ብር 0944222324 0904944848 ከ100 200 ብር ብቻ ከፍለው አዲስ አበባ ውስጥ ካሉበት እንልካለን አድራሻችን መገናኛ ዘፍመሽ ግራንድ ሞል 3ኛ ፎቅ ከሊፍት ሲወርዱ ወደ ቀኝ ታጥፈው ቀጥታ 376 በኪስዎ ጥሬ ገንዘብ ካልያዙ በሞባይል ማስተላለፍ ይችላሉ። ካሉበት ሆነው ለማዘዝ ምርጫዎን በዚህ ይላኩልን ordermertteka1 ordermertteka2\n",
      "\n",
      "Message 5:\n",
      "single Set serving acrylic Tray with golden and silver handle ለኬክለፍሩት እና ለተለያዩ ዲዘርት ነገሮች ማቅረቢያ የማይጫጫር የማይመነችክ ሰርቪሶች acrylic ስለሆነ ቶሎ አይሰበርም እረጅም ጊዜ ውበቱን ጠብቆ የሚቆይ ዋጋ1100ብር ዉስን ፍሬ ነው ያለን limited stock አድራሻ ቁ1 መገናኛ ታሜ ጋስ ህንፃ ጎን ስሪ ኤም ሲቲ ሞል ሁለተኛ ፎቅ ቢሮ ቁ SL05Aከ ሊፍቱ ፊት ለ ፊት ቁ2 ለቡ መዳህኒዓለም ቤተክርስቲያን 100ሜ ወደ ሙዚቃ ቤት ከፍ ብሎ ዛም_ሞል 2ኛ ፎቅ ቢሮቁ 214 0909522840 0923350054 ለቡ ቅርንጫፍ0973611819 በTelegram ለማዘዝ ይጠቀሙ shager_onlinestore ለተጨማሪ ማብራሪያ የቴሌግራም ገፃችን httpstmeShageronlinestore\n",
      "\n",
      "--- CoNLL Labeling Format Reminder ---\n",
      "Each token per line with its label:\n",
      "ምርቱ\tB-Product\n",
      "እና\tI-Product\n",
      "ዋጋው\tB-PRICE\n",
      "1000\tI-PRICE\n",
      "ብር\tI-PRICE\n",
      "\n",
      "\n",
      "Save your final labels in: ../data/labeled_data.conll\n"
     ]
    }
   ],
   "source": [
    "import pandas as pd\n",
    "import os\n",
    "\n",
    "# --- Step 1: Load Preprocessed Data ---\n",
    "input_path = \"../data/preprocessed_data.csv\"\n",
    "df = pd.read_csv(input_path)\n",
    "\n",
    "# --- Step 2: Manual Labeling Support ---\n",
    "# We'll print sample messages to manually label and then format to CoNLL\n",
    "sample_messages = df['cleaned_text'].sample(5).tolist()\n",
    "\n",
    "print(\"--- Sample Messages for Labeling (copy and label in a text file) ---\")\n",
    "for i, msg in enumerate(sample_messages):\n",
    "    print(f\"\\nMessage {i+1}:\\n{msg}\")\n",
    "\n",
    "# --- Step 3: CoNLL Format Template ---\n",
    "print(\"\\n--- CoNLL Labeling Format Reminder ---\")\n",
    "print(\"Each token per line with its label:\")\n",
    "print(\"ምርቱ\\tB-Product\\nእና\\tI-Product\\nዋጋው\\tB-PRICE\\n1000\\tI-PRICE\\nብር\\tI-PRICE\\n\\n\")\n",
    "\n",
    "# Instructions for manual process:\n",
    "# 1. Open Notepad or VSCode.\n",
    "# 2. Paste a message and break it into tokens.\n",
    "# 3. Label each word.\n",
    "# 4. Save as 'labeled_data.conll' in the /data folder.\n",
    "# Format: Token\\tEntityTag, with blank lines between sentences.\n",
    "\n",
    "print(\"Save your final labels in: ../data/labeled_data.conll\")\n"
   ]
  }
 ],
 "metadata": {
  "kernelspec": {
   "display_name": "venv",
   "language": "python",
   "name": "python3"
  },
  "language_info": {
   "codemirror_mode": {
    "name": "ipython",
    "version": 3
   },
   "file_extension": ".py",
   "mimetype": "text/x-python",
   "name": "python",
   "nbconvert_exporter": "python",
   "pygments_lexer": "ipython3",
   "version": "3.12.10"
  }
 },
 "nbformat": 4,
 "nbformat_minor": 2
}
