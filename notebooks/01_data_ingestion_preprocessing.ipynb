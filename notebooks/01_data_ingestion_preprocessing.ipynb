{
 "cells": [
  {
   "cell_type": "code",
   "execution_count": 3,
   "metadata": {},
   "outputs": [],
   "source": [
    "#!pip install pandas"
   ]
  },
  {
   "cell_type": "code",
   "execution_count": 5,
   "metadata": {},
   "outputs": [
    {
     "name": "stdout",
     "output_type": "stream",
     "text": [
      "Cleaned data saved to: ../data/preprocessed_data.csv\n",
      "\n",
      "Sample Cleaned Messages for Labeling:\n",
      "                                                                                                                                                                                                                                                                                                                                                                                                                                                                                         cleaned_text\n",
      "                                                                                                                                                                                                                                                                                                                                                                                                                                            Massage Slipper ይሄንን tmeMerttEka ተጭነው join ያድርጉ፣ ቤተሰብ ይሁኑ\n",
      "                                                                                                                                                                                                                                                                                                                                                                                                                                                                                                  nan\n",
      "                                                                                                                                                                                                                                                                                                                                                                                                                                                                                                  nan\n",
      "                                                                                                                                                                                                                                                                                                      NIKE Made In VIETNAM Size 42 43 44 Price 1800 Br Free Delivery INBOX Maraki2211 ስልክ 251 913321831 አድራሻ አዲስ አበባ ሜክሲኮ፡ ከ ኬኬር ህንጻ 50ሜ ወረድ ብሎ አይመን ህንፃ ግራውንድ ፍሎር ላይ፡ የሱቅ ቁ012 Maraki Brand ማራኪ ብራንድ\n",
      "Stainless Steel Vacuum Flask Material Stainless steel Insulation performance 612 hours Capacity about 500ML Size as shown Package_includes 1Stainless steel vacuum flask 2Share water cup ዋጋ፦ 1200 ብር ለማዘዝ Orderqnash ውስን ፍሬ ነው የቀረው Limited Stock Telegram tmeqnashcom Telegram tmeqnashcom ጥራት ዋስትና ቅናሽ አድራሻ ፦ ቁጥር 1 መገናኛ ዘፍመሽ ግራንድ ሞል 3 ተኛ ፎቅ ቁጥር 329 ቁጥር 2 ጀሞ 1 ከለላ ህንፃ ግራውንድ ለይ G07 ማሳሰብያ ሱቃችን ሲመጡ ትክክለኛ የኛ ሱቅ መሆኑ ያረጋግጡ የራሳችን ሎጎ መኖሩን እና 329 G07 መሆኑ ያረጋግጡ ስልክ 0946966440 0992606060 0905464599\n"
     ]
    }
   ],
   "source": [
    "# --- Step 1: Imports and File Load ---\n",
    "\n",
    "import pandas as pd\n",
    "import re\n",
    "import os\n",
    "\n",
    "# Load telegram_data.csv\n",
    "input_path = \"../data/telegram_data.csv\"  # Adjust path as needed\n",
    "assert os.path.exists(input_path), \"Input file not found!\"\n",
    "df = pd.read_csv(input_path)\n",
    "df.head()\n",
    "\n",
    "# --- Step 2: Basic Cleaning Function for Amharic Text ---\n",
    "def clean_text(text):\n",
    "    text = str(text)\n",
    "    text = re.sub(r'[^\\w፡።ሀ-፼\\s]', '', text)  # Retain Amharic characters\n",
    "    text = re.sub(r'\\s+', ' ', text).strip()\n",
    "    return text\n",
    "\n",
    "# Apply cleaning\n",
    "df['cleaned_text'] = df['Message'].apply(clean_text)\n",
    "\n",
    "# Optionally drop empty rows\n",
    "df = df[df['cleaned_text'].str.len() > 1]\n",
    "\n",
    "# --- Step 3: Save Cleaned Data ---\n",
    "output_path = \"../data/preprocessed_data.csv\"\n",
    "df.to_csv(output_path, index=False)\n",
    "print(f\"Cleaned data saved to: {output_path}\")\n",
    "\n",
    "# --- Optional Preview for Labeling Task ---\n",
    "print(\"\\nSample Cleaned Messages for Labeling:\")\n",
    "print(df[['cleaned_text']].sample(5).to_string(index=False))\n"
   ]
  }
 ],
 "metadata": {
  "kernelspec": {
   "display_name": "venv",
   "language": "python",
   "name": "python3"
  },
  "language_info": {
   "codemirror_mode": {
    "name": "ipython",
    "version": 3
   },
   "file_extension": ".py",
   "mimetype": "text/x-python",
   "name": "python",
   "nbconvert_exporter": "python",
   "pygments_lexer": "ipython3",
   "version": "3.12.10"
  }
 },
 "nbformat": 4,
 "nbformat_minor": 2
}
