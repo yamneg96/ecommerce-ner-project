# 05_vendor_scorecard.ipynb

import pandas as pd
import numpy as np

# --- Step 1: Load cleaned Telegram post data ---
df = pd.read_csv("../data/preprocessed_data.csv")

# --- Step 2: Mock views and vendor IDs ---
df["views"] = np.random.randint(200, 2000, size=len(df))
df["vendor"] = df["channel"] if "channel" in df.columns else "vendor_" + (df.index % 5).astype(str)

# --- Step 3: Extract numeric prices ---
def extract_price(text):
    match = pd.Series(text).str.extract(r'(\d{2,6})\s*ብር')
    return int(match[0].values[0]) if match[0].notna().any() else np.nan

df["price"] = df["cleaned_text"].apply(extract_price)

# --- Step 4: Create analytics per vendor ---
vendor_stats = df.groupby("vendor").agg(
    avg_views=("views", "mean"),
    post_count=("vendor", "count"),
    avg_price=("price", "mean"),
)

# --- Step 5: Lending Score Calculation ---
vendor_stats["lending_score"] = (vendor_stats["avg_views"] * 0.5) + (vendor_stats["post_count"] * 0.5)

# --- Step 6: Show final table ---
print("\n🏦 Vendor Scorecard")
print(vendor_stats.reset_index().round(2).to_string(index=False))
