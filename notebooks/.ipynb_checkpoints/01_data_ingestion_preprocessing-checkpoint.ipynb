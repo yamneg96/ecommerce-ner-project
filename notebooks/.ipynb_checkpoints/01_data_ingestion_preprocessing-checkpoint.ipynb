{
 "cells": [
  {
   "cell_type": "code",
   "execution_count": null,
   "metadata": {
    "vscode": {
     "languageId": "plaintext"
    }
   },
   "outputs": [],
   "source": [
    "# --- Step 1: Imports and File Load ---\n",
    "import pandas as pd\n",
    "import re\n",
    "import os\n",
    "\n",
    "# Load telegram_data.csv\n",
    "input_path = \"../data/telegram_data.csv\"  # Adjust path as needed\n",
    "assert os.path.exists(input_path), \"Input file not found!\"\n",
    "df = pd.read_csv(input_path)\n",
    "df.head()\n",
    "\n",
    "# --- Step 2: Basic Cleaning Function for Amharic Text ---\n",
    "def clean_text(text):\n",
    "    text = str(text)\n",
    "    text = re.sub(r'[^\\w፡።ሀ-፼\\s]', '', text)  # Retain Amharic characters\n",
    "    text = re.sub(r'\\s+', ' ', text).strip()\n",
    "    return text\n",
    "\n",
    "# Apply cleaning\n",
    "df['cleaned_text'] = df['message'].apply(clean_text)\n",
    "\n",
    "# Optionally drop empty rows\n",
    "df = df[df['cleaned_text'].str.len() > 1]\n",
    "\n",
    "# --- Step 3: Save Cleaned Data ---\n",
    "output_path = \"../data/preprocessed_data.csv\"\n",
    "df.to_csv(output_path, index=False)\n",
    "print(f\"Cleaned data saved to: {output_path}\")\n",
    "\n",
    "# --- Optional Preview for Labeling Task ---\n",
    "print(\"\\nSample Cleaned Messages for Labeling:\")\n",
    "print(df[['cleaned_text']].sample(5).to_string(index=False))\n"
   ]
  }
 ],
 "metadata": {
  "language_info": {
   "name": "python"
  }
 },
 "nbformat": 4,
 "nbformat_minor": 2
}
