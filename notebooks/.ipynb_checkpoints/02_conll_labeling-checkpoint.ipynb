{
 "cells": [
  {
   "cell_type": "code",
   "execution_count": null,
   "metadata": {
    "vscode": {
     "languageId": "plaintext"
    }
   },
   "outputs": [],
   "source": [
    "import pandas as pd\n",
    "import os\n",
    "\n",
    "# --- Step 1: Load Preprocessed Data ---\n",
    "input_path = \"../data/preprocessed_data.csv\"\n",
    "df = pd.read_csv(input_path)\n",
    "\n",
    "# --- Step 2: Manual Labeling Support ---\n",
    "# We'll print sample messages to manually label and then format to CoNLL\n",
    "sample_messages = df['cleaned_text'].sample(5).tolist()\n",
    "\n",
    "print(\"--- Sample Messages for Labeling (copy and label in a text file) ---\")\n",
    "for i, msg in enumerate(sample_messages):\n",
    "    print(f\"\\nMessage {i+1}:\\n{msg}\")\n",
    "\n",
    "# --- Step 3: CoNLL Format Template ---\n",
    "print(\"\\n--- CoNLL Labeling Format Reminder ---\")\n",
    "print(\"Each token per line with its label:\")\n",
    "print(\"ምርቱ\\tB-Product\\nእና\\tI-Product\\nዋጋው\\tB-PRICE\\n1000\\tI-PRICE\\nብር\\tI-PRICE\\n\\n\")\n",
    "\n",
    "# Instructions for manual process:\n",
    "# 1. Open Notepad or VSCode.\n",
    "# 2. Paste a message and break it into tokens.\n",
    "# 3. Label each word.\n",
    "# 4. Save as 'labeled_data.conll' in the /data folder.\n",
    "# Format: Token\\tEntityTag, with blank lines between sentences.\n",
    "\n",
    "print(\"Save your final labels in: ../data/labeled_data.conll\")\n"
   ]
  }
 ],
 "metadata": {
  "language_info": {
   "name": "python"
  }
 },
 "nbformat": 4,
 "nbformat_minor": 2
}
